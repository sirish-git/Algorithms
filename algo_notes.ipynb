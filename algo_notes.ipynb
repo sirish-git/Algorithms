{
 "cells": [
  {
   "cell_type": "markdown",
   "metadata": {
    "toc": true
   },
   "source": [
    "<h1>Table of Contents<span class=\"tocSkip\"></span></h1>\n",
    "<div class=\"toc\"><ul class=\"toc-item\"><li><span><a href=\"#Topics-to-learn\" data-toc-modified-id=\"Topics-to-learn-1\"><span class=\"toc-item-num\">1&nbsp;&nbsp;</span>Topics to learn</a></span></li><li><span><a href=\"#-Useful-tips-\" data-toc-modified-id=\"-Useful-tips--2\"><span class=\"toc-item-num\">2&nbsp;&nbsp;</span><font color=\"blue\"> Useful tips </font></a></span><ul class=\"toc-item\"><li><span><a href=\"#Static-memory-pool\" data-toc-modified-id=\"Static-memory-pool-2.1\"><span class=\"toc-item-num\">2.1&nbsp;&nbsp;</span>Static memory pool</a></span></li><li><span><a href=\"#Add-link-at-start\" data-toc-modified-id=\"Add-link-at-start-2.2\"><span class=\"toc-item-num\">2.2&nbsp;&nbsp;</span>Add link at start</a></span></li><li><span><a href=\"#Use-long-hash\" data-toc-modified-id=\"Use-long-hash-2.3\"><span class=\"toc-item-num\">2.3&nbsp;&nbsp;</span>Use long-hash</a></span></li><li><span><a href=\"#Save-direct-address-of-node\" data-toc-modified-id=\"Save-direct-address-of-node-2.4\"><span class=\"toc-item-num\">2.4&nbsp;&nbsp;</span>Save direct address of node</a></span></li></ul></li><li><span><a href=\"#Mathematics\" data-toc-modified-id=\"Mathematics-3\"><span class=\"toc-item-num\">3&nbsp;&nbsp;</span>Mathematics</a></span><ul class=\"toc-item\"><li><span><a href=\"#-Number-Theory-\" data-toc-modified-id=\"-Number-Theory--3.1\"><span class=\"toc-item-num\">3.1&nbsp;&nbsp;</span><font color=\"DarkOrange\"> Number Theory </font></a></span><ul class=\"toc-item\"><li><span><a href=\"#-Prime-Number-Generation-(Sieve-of-Eratosthenes,-Segmented-Sieve)-\" data-toc-modified-id=\"-Prime-Number-Generation-(Sieve-of-Eratosthenes,-Segmented-Sieve)--3.1.1\"><span class=\"toc-item-num\">3.1.1&nbsp;&nbsp;</span><font color=\"Magenta\"> Prime Number Generation (Sieve of Eratosthenes, Segmented Sieve) </font></a></span></li><li><span><a href=\"#Euler-Totient-Theorem\" data-toc-modified-id=\"Euler-Totient-Theorem-3.1.2\"><span class=\"toc-item-num\">3.1.2&nbsp;&nbsp;</span>Euler Totient Theorem</a></span></li><li><span><a href=\"#Fermat’s-Theorem\" data-toc-modified-id=\"Fermat’s-Theorem-3.1.3\"><span class=\"toc-item-num\">3.1.3&nbsp;&nbsp;</span>Fermat’s Theorem</a></span></li><li><span><a href=\"#-GCD-(HCF)-&amp;-LCM-(Euclid)-\" data-toc-modified-id=\"-GCD-(HCF)-&amp;-LCM-(Euclid)--3.1.4\"><span class=\"toc-item-num\">3.1.4&nbsp;&nbsp;</span><font color=\"Magenta\"> GCD (HCF) &amp; LCM (Euclid) </font></a></span></li><li><span><a href=\"#Linear-Diophantine-Equations-(Extended-Euclid)\" data-toc-modified-id=\"Linear-Diophantine-Equations-(Extended-Euclid)-3.1.5\"><span class=\"toc-item-num\">3.1.5&nbsp;&nbsp;</span>Linear Diophantine Equations (Extended Euclid)</a></span></li><li><span><a href=\"#-Modulus-Arithmetic-(addition,multiplication,subtraction,modular-Inverse)-\" data-toc-modified-id=\"-Modulus-Arithmetic-(addition,multiplication,subtraction,modular-Inverse)--3.1.6\"><span class=\"toc-item-num\">3.1.6&nbsp;&nbsp;</span><font color=\"Magenta\"> Modulus Arithmetic (addition,multiplication,subtraction,modular Inverse) </font></a></span></li><li><span><a href=\"#binary-exponentiation\" data-toc-modified-id=\"binary-exponentiation-3.1.7\"><span class=\"toc-item-num\">3.1.7&nbsp;&nbsp;</span>binary exponentiation</a></span></li><li><span><a href=\"#Cycle-Finding-(Floyd-Algo-and-Brent-Algo)\" data-toc-modified-id=\"Cycle-Finding-(Floyd-Algo-and-Brent-Algo)-3.1.8\"><span class=\"toc-item-num\">3.1.8&nbsp;&nbsp;</span>Cycle Finding (Floyd Algo and Brent Algo)</a></span></li><li><span><a href=\"#Integer-Factorization-(Trial-Division-,-Pollard-Rho-method)\" data-toc-modified-id=\"Integer-Factorization-(Trial-Division-,-Pollard-Rho-method)-3.1.9\"><span class=\"toc-item-num\">3.1.9&nbsp;&nbsp;</span>Integer Factorization (Trial Division , Pollard Rho method)</a></span></li><li><span><a href=\"#Lucas-Theorem--(Simple-&amp;-Advance)\" data-toc-modified-id=\"Lucas-Theorem--(Simple-&amp;-Advance)-3.1.10\"><span class=\"toc-item-num\">3.1.10&nbsp;&nbsp;</span>Lucas Theorem  (Simple &amp; Advance)</a></span></li><li><span><a href=\"#Chinese-Remainder-Theorem\" data-toc-modified-id=\"Chinese-Remainder-Theorem-3.1.11\"><span class=\"toc-item-num\">3.1.11&nbsp;&nbsp;</span>Chinese Remainder Theorem</a></span></li><li><span><a href=\"#Wilson-Theorem\" data-toc-modified-id=\"Wilson-Theorem-3.1.12\"><span class=\"toc-item-num\">3.1.12&nbsp;&nbsp;</span>Wilson Theorem</a></span></li><li><span><a href=\"#Miller---Rabin-Primality-Testing\" data-toc-modified-id=\"Miller---Rabin-Primality-Testing-3.1.13\"><span class=\"toc-item-num\">3.1.13&nbsp;&nbsp;</span>Miller - Rabin Primality Testing</a></span></li><li><span><a href=\"#Goldbach-Conjecture\" data-toc-modified-id=\"Goldbach-Conjecture-3.1.14\"><span class=\"toc-item-num\">3.1.14&nbsp;&nbsp;</span>Goldbach Conjecture</a></span></li><li><span><a href=\"#Logarithmic-Exponentiation\" data-toc-modified-id=\"Logarithmic-Exponentiation-3.1.15\"><span class=\"toc-item-num\">3.1.15&nbsp;&nbsp;</span>Logarithmic Exponentiation</a></span></li><li><span><a href=\"#-Arithmetic/Geometric-progression-\" data-toc-modified-id=\"-Arithmetic/Geometric-progression--3.1.16\"><span class=\"toc-item-num\">3.1.16&nbsp;&nbsp;</span><font color=\"Brown\"> Arithmetic/Geometric progression </font></a></span></li></ul></li><li><span><a href=\"#-Counting-\" data-toc-modified-id=\"-Counting--3.2\"><span class=\"toc-item-num\">3.2&nbsp;&nbsp;</span><font color=\"DarkOrange\"> Counting </font></a></span><ul class=\"toc-item\"><li><span><a href=\"#Pigeonhole-principle\" data-toc-modified-id=\"Pigeonhole-principle-3.2.1\"><span class=\"toc-item-num\">3.2.1&nbsp;&nbsp;</span>Pigeonhole principle</a></span></li><li><span><a href=\"#Combinatorics\" data-toc-modified-id=\"Combinatorics-3.2.2\"><span class=\"toc-item-num\">3.2.2&nbsp;&nbsp;</span>Combinatorics</a></span></li><li><span><a href=\"#Inclusion-Exclusion\" data-toc-modified-id=\"Inclusion-Exclusion-3.2.3\"><span class=\"toc-item-num\">3.2.3&nbsp;&nbsp;</span>Inclusion Exclusion</a></span></li><li><span><a href=\"#Special-Numbers--[Stirling,Fibonacci,Catalan,-Eulerian,-Harmonic,-Bernoulli]\" data-toc-modified-id=\"Special-Numbers--[Stirling,Fibonacci,Catalan,-Eulerian,-Harmonic,-Bernoulli]-3.2.4\"><span class=\"toc-item-num\">3.2.4&nbsp;&nbsp;</span>Special Numbers  [Stirling,Fibonacci,Catalan, Eulerian, Harmonic, Bernoulli]</a></span></li></ul></li><li><span><a href=\"#Linear-Algebra\" data-toc-modified-id=\"Linear-Algebra-3.3\"><span class=\"toc-item-num\">3.3&nbsp;&nbsp;</span>Linear Algebra</a></span><ul class=\"toc-item\"><li><span><a href=\"#Multiplication-(-Strassen's-algorithm-),-Logarithmic-exponentiation\" data-toc-modified-id=\"Multiplication-(-Strassen's-algorithm-),-Logarithmic-exponentiation-3.3.1\"><span class=\"toc-item-num\">3.3.1&nbsp;&nbsp;</span>Multiplication ( Strassen's algorithm ), Logarithmic exponentiation</a></span></li><li><span><a href=\"#Determinant-,-Rank-and-Inverse-Of-Matrix-[-Gaussian-Elimination-,-Gauss-Jordan-Elimination]\" data-toc-modified-id=\"Determinant-,-Rank-and-Inverse-Of-Matrix-[-Gaussian-Elimination-,-Gauss-Jordan-Elimination]-3.3.2\"><span class=\"toc-item-num\">3.3.2&nbsp;&nbsp;</span>Determinant , Rank and Inverse Of Matrix [ Gaussian Elimination , Gauss Jordan Elimination]</a></span></li><li><span><a href=\"#Eigenvalues-And-Eigen-vector\" data-toc-modified-id=\"Eigenvalues-And-Eigen-vector-3.3.3\"><span class=\"toc-item-num\">3.3.3&nbsp;&nbsp;</span>Eigenvalues And Eigen vector</a></span></li><li><span><a href=\"#-sweep-line-\" data-toc-modified-id=\"-sweep-line--3.3.4\"><span class=\"toc-item-num\">3.3.4&nbsp;&nbsp;</span><font color=\"Magenta\"> sweep line </font></a></span></li></ul></li></ul></li><li><span><a href=\"#-Searching-and-Sorting-\" data-toc-modified-id=\"-Searching-and-Sorting--4\"><span class=\"toc-item-num\">4&nbsp;&nbsp;</span><font color=\"DarkOrange\"> Searching and Sorting </font></a></span><ul class=\"toc-item\"><li><span><a href=\"#Sorting-algorithms\" data-toc-modified-id=\"Sorting-algorithms-4.1\"><span class=\"toc-item-num\">4.1&nbsp;&nbsp;</span>Sorting algorithms</a></span><ul class=\"toc-item\"><li><span><a href=\"#-Binary-search-\" data-toc-modified-id=\"-Binary-search--4.1.1\"><span class=\"toc-item-num\">4.1.1&nbsp;&nbsp;</span><font color=\"Magenta\"> Binary search </font></a></span></li><li><span><a href=\"#Insertion-sort\" data-toc-modified-id=\"Insertion-sort-4.1.2\"><span class=\"toc-item-num\">4.1.2&nbsp;&nbsp;</span>Insertion sort</a></span></li><li><span><a href=\"#-Quick-sort-\" data-toc-modified-id=\"-Quick-sort--4.1.3\"><span class=\"toc-item-num\">4.1.3&nbsp;&nbsp;</span><font color=\"Magenta\"> Quick sort </font></a></span></li><li><span><a href=\"#-Merge-sort-\" data-toc-modified-id=\"-Merge-sort--4.1.4\"><span class=\"toc-item-num\">4.1.4&nbsp;&nbsp;</span><font color=\"Magenta\"> Merge sort </font></a></span></li><li><span><a href=\"#-Heap-sort-\" data-toc-modified-id=\"-Heap-sort--4.1.5\"><span class=\"toc-item-num\">4.1.5&nbsp;&nbsp;</span><font color=\"Magenta\"> Heap sort </font></a></span></li><li><span><a href=\"#-Priority-Queue-\" data-toc-modified-id=\"-Priority-Queue--4.1.6\"><span class=\"toc-item-num\">4.1.6&nbsp;&nbsp;</span><font color=\"Magenta\"> Priority Queue </font></a></span><ul class=\"toc-item\"><li><span><a href=\"#-Problems-\" data-toc-modified-id=\"-Problems--4.1.6.1\"><span class=\"toc-item-num\">4.1.6.1&nbsp;&nbsp;</span><font color=\"red\"> Problems </font></a></span></li></ul></li><li><span><a href=\"#-Counting-sort-\" data-toc-modified-id=\"-Counting-sort--4.1.7\"><span class=\"toc-item-num\">4.1.7&nbsp;&nbsp;</span><font color=\"Magenta\"> Counting sort </font></a></span></li></ul></li><li><span><a href=\"#Pattern-searching-algorihms\" data-toc-modified-id=\"Pattern-searching-algorihms-4.2\"><span class=\"toc-item-num\">4.2&nbsp;&nbsp;</span>Pattern searching algorihms</a></span><ul class=\"toc-item\"><li><span><a href=\"#KMP\" data-toc-modified-id=\"KMP-4.2.1\"><span class=\"toc-item-num\">4.2.1&nbsp;&nbsp;</span>KMP</a></span></li><li><span><a href=\"#-Rabin-Karp-\" data-toc-modified-id=\"-Rabin-Karp--4.2.2\"><span class=\"toc-item-num\">4.2.2&nbsp;&nbsp;</span><font color=\"Magenta\"> Rabin Karp </font></a></span></li><li><span><a href=\"#Aho-Corasick\" data-toc-modified-id=\"Aho-Corasick-4.2.3\"><span class=\"toc-item-num\">4.2.3&nbsp;&nbsp;</span>Aho-Corasick</a></span></li><li><span><a href=\"#-Z-algorithm-\" data-toc-modified-id=\"-Z-algorithm--4.2.4\"><span class=\"toc-item-num\">4.2.4&nbsp;&nbsp;</span><font color=\"Magenta\"> Z-algorithm </font></a></span></li><li><span><a href=\"#Manacher-Algorithm\" data-toc-modified-id=\"Manacher-Algorithm-4.2.5\"><span class=\"toc-item-num\">4.2.5&nbsp;&nbsp;</span>Manacher Algorithm</a></span></li><li><span><a href=\"#longest-common-prefix-(lcp)\" data-toc-modified-id=\"longest-common-prefix-(lcp)-4.2.6\"><span class=\"toc-item-num\">4.2.6&nbsp;&nbsp;</span>longest common prefix (lcp)</a></span></li><li><span><a href=\"#-kadance-algorithm-(to-find-max-sum-sub-array)-\" data-toc-modified-id=\"-kadance-algorithm-(to-find-max-sum-sub-array)--4.2.7\"><span class=\"toc-item-num\">4.2.7&nbsp;&nbsp;</span><font color=\"Magenta\"> kadance algorithm (to find max sum sub array) </font></a></span><ul class=\"toc-item\"><li><span><a href=\"#-Problems-\" data-toc-modified-id=\"-Problems--4.2.7.1\"><span class=\"toc-item-num\">4.2.7.1&nbsp;&nbsp;</span><font color=\"red\"> Problems </font></a></span></li></ul></li></ul></li></ul></li><li><span><a href=\"#-Data-Structures-\" data-toc-modified-id=\"-Data-Structures--5\"><span class=\"toc-item-num\">5&nbsp;&nbsp;</span><font color=\"DarkOrange\"> Data Structures </font></a></span><ul class=\"toc-item\"><li><span><a href=\"#Basic-data-structures\" data-toc-modified-id=\"Basic-data-structures-5.1\"><span class=\"toc-item-num\">5.1&nbsp;&nbsp;</span>Basic data structures</a></span><ul class=\"toc-item\"><li><span><a href=\"#Hash-tables\" data-toc-modified-id=\"Hash-tables-5.1.1\"><span class=\"toc-item-num\">5.1.1&nbsp;&nbsp;</span>Hash tables</a></span></li><li><span><a href=\"#-Rolling-Hash-\" data-toc-modified-id=\"-Rolling-Hash--5.1.2\"><span class=\"toc-item-num\">5.1.2&nbsp;&nbsp;</span><font color=\"Magenta\"> Rolling Hash </font></a></span><ul class=\"toc-item\"><li><span><a href=\"#-Problems-\" data-toc-modified-id=\"-Problems--5.1.2.1\"><span class=\"toc-item-num\">5.1.2.1&nbsp;&nbsp;</span><font color=\"Red\"> Problems </font></a></span></li></ul></li></ul></li><li><span><a href=\"#-Advanced-data-structures-\" data-toc-modified-id=\"-Advanced-data-structures--5.2\"><span class=\"toc-item-num\">5.2&nbsp;&nbsp;</span><font color=\"Magenta\"> Advanced data structures </font></a></span><ul class=\"toc-item\"><li><span><a href=\"#-Trie-\" data-toc-modified-id=\"-Trie--5.2.1\"><span class=\"toc-item-num\">5.2.1&nbsp;&nbsp;</span><font color=\"Magenta\"> Trie </font></a></span><ul class=\"toc-item\"><li><span><a href=\"#-Problems-\" data-toc-modified-id=\"-Problems--5.2.1.1\"><span class=\"toc-item-num\">5.2.1.1&nbsp;&nbsp;</span><font color=\"red\"> Problems </font></a></span></li></ul></li><li><span><a href=\"#Suffix-Trie\" data-toc-modified-id=\"Suffix-Trie-5.2.2\"><span class=\"toc-item-num\">5.2.2&nbsp;&nbsp;</span>Suffix Trie</a></span></li><li><span><a href=\"#-Skip-List-\" data-toc-modified-id=\"-Skip-List--5.2.3\"><span class=\"toc-item-num\">5.2.3&nbsp;&nbsp;</span><font color=\"Magenta\"> Skip List </font></a></span></li><li><span><a href=\"#-Treap-\" data-toc-modified-id=\"-Treap--5.2.4\"><span class=\"toc-item-num\">5.2.4&nbsp;&nbsp;</span><font color=\"Magenta\"> Treap </font></a></span></li><li><span><a href=\"#-Binary-Search-Tree-(BST)-\" data-toc-modified-id=\"-Binary-Search-Tree-(BST)--5.2.5\"><span class=\"toc-item-num\">5.2.5&nbsp;&nbsp;</span><font color=\"Magenta\"> Binary Search Tree (BST) </font></a></span></li><li><span><a href=\"#-Segment-Tree-(for-RMQ-(Range-Minimum-Query))-\" data-toc-modified-id=\"-Segment-Tree-(for-RMQ-(Range-Minimum-Query))--5.2.6\"><span class=\"toc-item-num\">5.2.6&nbsp;&nbsp;</span><font color=\"Magenta\"> Segment Tree (for RMQ (Range Minimum Query)) </font></a></span></li><li><span><a href=\"#-Binary-Index-Tree-(Fenwick-Tree)-\" data-toc-modified-id=\"-Binary-Index-Tree-(Fenwick-Tree)--5.2.7\"><span class=\"toc-item-num\">5.2.7&nbsp;&nbsp;</span><font color=\"Magenta\"> Binary Index Tree (Fenwick Tree) </font></a></span></li><li><span><a href=\"#-Suffix-arrays-\" data-toc-modified-id=\"-Suffix-arrays--5.2.8\"><span class=\"toc-item-num\">5.2.8&nbsp;&nbsp;</span><font color=\"Magenta\"> Suffix arrays </font></a></span><ul class=\"toc-item\"><li><span><a href=\"#-Problems-\" data-toc-modified-id=\"-Problems--5.2.8.1\"><span class=\"toc-item-num\">5.2.8.1&nbsp;&nbsp;</span><font color=\"red\"> Problems </font></a></span></li></ul></li><li><span><a href=\"#Suffix-automation\" data-toc-modified-id=\"Suffix-automation-5.2.9\"><span class=\"toc-item-num\">5.2.9&nbsp;&nbsp;</span>Suffix automation</a></span></li><li><span><a href=\"#Suffix-trees\" data-toc-modified-id=\"Suffix-trees-5.2.10\"><span class=\"toc-item-num\">5.2.10&nbsp;&nbsp;</span>Suffix trees</a></span><ul class=\"toc-item\"><li><span><a href=\"#-Problems-\" data-toc-modified-id=\"-Problems--5.2.10.1\"><span class=\"toc-item-num\">5.2.10.1&nbsp;&nbsp;</span><font color=\"red\"> Problems </font></a></span></li></ul></li></ul></li></ul></li><li><span><a href=\"#-Graph-Algorithms-\" data-toc-modified-id=\"-Graph-Algorithms--6\"><span class=\"toc-item-num\">6&nbsp;&nbsp;</span><font color=\"DarkOrange\"> Graph Algorithms </font></a></span><ul class=\"toc-item\"><li><span><a href=\"#Graph-Representation\" data-toc-modified-id=\"Graph-Representation-6.1\"><span class=\"toc-item-num\">6.1&nbsp;&nbsp;</span>Graph Representation</a></span></li><li><span><a href=\"#Graph-Types\" data-toc-modified-id=\"Graph-Types-6.2\"><span class=\"toc-item-num\">6.2&nbsp;&nbsp;</span>Graph Types</a></span></li><li><span><a href=\"#DFS-&amp;-It’s-Application\" data-toc-modified-id=\"DFS-&amp;-It’s-Application-6.3\"><span class=\"toc-item-num\">6.3&nbsp;&nbsp;</span>DFS &amp; It’s Application</a></span></li><li><span><a href=\"#BFS-&amp;-It’s-Application\" data-toc-modified-id=\"BFS-&amp;-It’s-Application-6.4\"><span class=\"toc-item-num\">6.4&nbsp;&nbsp;</span>BFS &amp; It’s Application</a></span></li><li><span><a href=\"#Minimum-Spanning-Tree\" data-toc-modified-id=\"Minimum-Spanning-Tree-6.5\"><span class=\"toc-item-num\">6.5&nbsp;&nbsp;</span>Minimum Spanning Tree</a></span></li><li><span><a href=\"#Single-Source-Shortest-Path\" data-toc-modified-id=\"Single-Source-Shortest-Path-6.6\"><span class=\"toc-item-num\">6.6&nbsp;&nbsp;</span>Single Source Shortest-Path</a></span></li><li><span><a href=\"#All-pair-Shortest-Path\" data-toc-modified-id=\"All-pair-Shortest-Path-6.7\"><span class=\"toc-item-num\">6.7&nbsp;&nbsp;</span>All pair Shortest Path</a></span></li><li><span><a href=\"#Flow-Algorithms\" data-toc-modified-id=\"Flow-Algorithms-6.8\"><span class=\"toc-item-num\">6.8&nbsp;&nbsp;</span>Flow Algorithms</a></span></li><li><span><a href=\"#Other-Important-Topics-On-Graphs\" data-toc-modified-id=\"Other-Important-Topics-On-Graphs-6.9\"><span class=\"toc-item-num\">6.9&nbsp;&nbsp;</span>Other Important Topics On Graphs</a></span></li></ul></li><li><span><a href=\"#-Dynamic-Programming-\" data-toc-modified-id=\"-Dynamic-Programming--7\"><span class=\"toc-item-num\">7&nbsp;&nbsp;</span><font color=\"DarkOrange\"> Dynamic Programming </font></a></span><ul class=\"toc-item\"><li><span><a href=\"#Dynamic-Programming-Classical-Problems\" data-toc-modified-id=\"Dynamic-Programming-Classical-Problems-7.1\"><span class=\"toc-item-num\">7.1&nbsp;&nbsp;</span>Dynamic Programming Classical Problems</a></span></li><li><span><a href=\"#Dynamic-Programming--Advanced-Techniques\" data-toc-modified-id=\"Dynamic-Programming--Advanced-Techniques-7.2\"><span class=\"toc-item-num\">7.2&nbsp;&nbsp;</span>Dynamic Programming  Advanced Techniques</a></span></li></ul></li><li><span><a href=\"#-Good-problems-\" data-toc-modified-id=\"-Good-problems--8\"><span class=\"toc-item-num\">8&nbsp;&nbsp;</span><font color=\"red\"> Good problems </font></a></span></li></ul></div>"
   ]
  },
  {
   "cell_type": "markdown",
   "metadata": {},
   "source": [
    "# Topics to learn\n",
    "- Convex hull\n",
    "- SQRT with Binary Search"
   ]
  },
  {
   "cell_type": "markdown",
   "metadata": {},
   "source": [
    "# <font color=blue> Useful tips </font>"
   ]
  },
  {
   "cell_type": "markdown",
   "metadata": {},
   "source": [
    "## Static memory pool\n",
    "- Initialize the pool index for each test case"
   ]
  },
  {
   "cell_type": "markdown",
   "metadata": {},
   "source": [
    "## Add link at start\n",
    "- If sorting is not required, add the link at the start"
   ]
  },
  {
   "cell_type": "markdown",
   "metadata": {},
   "source": [
    "## Use long-hash\n",
    "- For string matching, before matching actual string, compare long-hash to early avoid outliers"
   ]
  },
  {
   "cell_type": "markdown",
   "metadata": {},
   "source": [
    "## Save direct address of node\n",
    "- Directly save the node addresses in an array, if the nodes needs to be accessed independently based on some index"
   ]
  },
  {
   "cell_type": "markdown",
   "metadata": {},
   "source": [
    "# Mathematics"
   ]
  },
  {
   "cell_type": "markdown",
   "metadata": {},
   "source": [
    "## <font color=DarkOrange> Number Theory </font>"
   ]
  },
  {
   "cell_type": "markdown",
   "metadata": {},
   "source": [
    "### <font color=Magenta> Prime Number Generation (Sieve of Eratosthenes, Segmented Sieve) </font>\n",
    "- [Primality check](https://www.topcoder.com/community/data-science/data-science-tutorials/mathematics-for-topcoders/)\n",
    "- [Sieve method](https://www.geeksforgeeks.org/sieve-of-eratosthenes/)\n",
    "- [Segmented Sieve](https://www.quora.com/What-is-the-segmented-sieve-of-Eratosthenes) [link2](https://www.geeksforgeeks.org/segmented-sieve/)\n",
    "- <font color=blue> To verify a number is prime, need to check the divisability with numbers till sqrt of (num) </font>\n",
    "- To get all primes less than large number (say 10million), sieve method is efficient which marks all multipliers from 2 till n\n",
    "- For large n or between some range, segment sieve segments range by finding the primes upto sqrt(n), then find remaining ranges separately using simple sieve and primes"
   ]
  },
  {
   "cell_type": "markdown",
   "metadata": {},
   "source": [
    "### Euler Totient Theorem"
   ]
  },
  {
   "cell_type": "markdown",
   "metadata": {},
   "source": [
    "### Fermat’s Theorem"
   ]
  },
  {
   "cell_type": "markdown",
   "metadata": {
    "heading_collapsed": true
   },
   "source": [
    "### <font color=Magenta> GCD (HCF) & LCM (Euclid) </font>\n",
    "- [GCD](https://www.topcoder.com/community/data-science/data-science-tutorials/mathematics-for-topcoders/)\n",
    "- [LCM](https://www.geeksforgeeks.org/lcm-of-given-array-elements/)\n",
    "- To find GCD (HCF) divide the highest number with smallest, then make divisor as dividend and remainder as divisor, repeat till 0. For more than two values find answer for two value pairs and repeat\n",
    "- $ LCM (a,b) = \\frac{a * b}{GCD(a, b)} $\n",
    "    - for more than two values find the answer for two values and repeat"
   ]
  },
  {
   "cell_type": "markdown",
   "metadata": {},
   "source": [
    "### Linear Diophantine Equations (Extended Euclid)"
   ]
  },
  {
   "cell_type": "markdown",
   "metadata": {},
   "source": [
    "### <font color=Magenta> Modulus Arithmetic (addition,multiplication,subtraction,modular Inverse) </font>\n",
    "- [Tutorial](https://www.hackerearth.com/practice/math/number-theory/basic-number-theory-1/tutorial/)\n",
    "- Properties:\n",
    "    - (a + b)%c = (a%c + b%c)%c\n",
    "    - (a - b)%c = (a%c - b%c)%c    \n",
    "    - (a \\* b)%c = (a%c * b%c)%c"
   ]
  },
  {
   "cell_type": "markdown",
   "metadata": {},
   "source": [
    "### binary exponentiation\n",
    "- [Tutorial](https://www.hackerearth.com/practice/math/number-theory/basic-number-theory-1/tutorial/)"
   ]
  },
  {
   "cell_type": "markdown",
   "metadata": {},
   "source": [
    "### Cycle Finding (Floyd Algo and Brent Algo)\n",
    "- [Tutorial](https://www.geeksforgeeks.org/brents-cycle-detection-algorithm/)"
   ]
  },
  {
   "cell_type": "markdown",
   "metadata": {},
   "source": [
    "### Integer Factorization (Trial Division , Pollard Rho method)"
   ]
  },
  {
   "cell_type": "markdown",
   "metadata": {},
   "source": [
    "### Lucas Theorem  (Simple & Advance)"
   ]
  },
  {
   "cell_type": "markdown",
   "metadata": {},
   "source": [
    "### Chinese Remainder Theorem"
   ]
  },
  {
   "cell_type": "markdown",
   "metadata": {},
   "source": [
    "### Wilson Theorem"
   ]
  },
  {
   "cell_type": "markdown",
   "metadata": {},
   "source": [
    "### Miller - Rabin Primality Testing"
   ]
  },
  {
   "cell_type": "markdown",
   "metadata": {},
   "source": [
    "### Goldbach Conjecture"
   ]
  },
  {
   "cell_type": "markdown",
   "metadata": {},
   "source": [
    "### Logarithmic Exponentiation"
   ]
  },
  {
   "cell_type": "markdown",
   "metadata": {},
   "source": [
    "### <font color=Brown> Arithmetic/Geometric progression </font>\n",
    "- GP n-th term: an = ar(n-1) (a=initial number, r=common ratio)\n",
    "- GP fact: b2 = ac (for 3 consecutive GP series, b is called geometric mean)\n",
    "- $GP sum = \\frac{a(1-rn)}{(1-r)}$\n",
    "- AP n-th term: an = a + (n-1)d\n",
    "- AP sum = n(a + an)/2"
   ]
  },
  {
   "cell_type": "markdown",
   "metadata": {},
   "source": [
    "## <font color=DarkOrange> Counting </font>"
   ]
  },
  {
   "cell_type": "markdown",
   "metadata": {},
   "source": [
    "### Pigeonhole principle"
   ]
  },
  {
   "cell_type": "markdown",
   "metadata": {},
   "source": [
    "### Combinatorics\n",
    "- [Tutorial](https://www.hackerearth.com/practice/math/combinatorics/basics-of-combinatorics/tutorial/)"
   ]
  },
  {
   "cell_type": "markdown",
   "metadata": {},
   "source": [
    "### Inclusion Exclusion"
   ]
  },
  {
   "cell_type": "markdown",
   "metadata": {},
   "source": [
    "### Special Numbers  [Stirling,Fibonacci,Catalan, Eulerian, Harmonic, Bernoulli]"
   ]
  },
  {
   "cell_type": "markdown",
   "metadata": {},
   "source": [
    "## Linear Algebra"
   ]
  },
  {
   "cell_type": "markdown",
   "metadata": {},
   "source": [
    "### Multiplication ( Strassen's algorithm ), Logarithmic exponentiation"
   ]
  },
  {
   "cell_type": "markdown",
   "metadata": {},
   "source": [
    "### Determinant , Rank and Inverse Of Matrix [ Gaussian Elimination , Gauss Jordan Elimination]"
   ]
  },
  {
   "cell_type": "markdown",
   "metadata": {},
   "source": [
    "### Eigenvalues And Eigen vector"
   ]
  },
  {
   "cell_type": "markdown",
   "metadata": {},
   "source": [
    "### <font color=Magenta> sweep line </font>"
   ]
  },
  {
   "cell_type": "markdown",
   "metadata": {},
   "source": [
    "# <font color=DarkOrange> Searching and Sorting </font>"
   ]
  },
  {
   "cell_type": "markdown",
   "metadata": {},
   "source": [
    "## Sorting algorithms"
   ]
  },
  {
   "cell_type": "markdown",
   "metadata": {},
   "source": [
    "### <font color=Magenta> Binary search </font>\n",
    "- [Tutorial](https://www.hackerearth.com/practice/algorithms/searching/binary-search/tutorial/)"
   ]
  },
  {
   "cell_type": "markdown",
   "metadata": {},
   "source": [
    "##### <font color=red> Problems </font>\n",
    "- Spoj\n",
    "    - [Double Helix](https://www.spoj.com/problems/ANARC05B/)"
   ]
  },
  {
   "cell_type": "markdown",
   "metadata": {},
   "source": [
    "### Insertion sort"
   ]
  },
  {
   "cell_type": "markdown",
   "metadata": {},
   "source": [
    "### <font color=Magenta> Quick sort </font>\n",
    "- [Implementation](https://github.com/sirish-git/Algorithms/blob/master/Solve_Algo/src/sorting_priority_queue/Pass_quick_sort.c)"
   ]
  },
  {
   "cell_type": "markdown",
   "metadata": {},
   "source": [
    "### <font color=Magenta> Merge sort </font>\n",
    "- [Implementation](https://github.com/sirish-git/Algorithms/blob/master/Solve_Algo/src/sorting_priority_queue/Pass_merge_sort.c)"
   ]
  },
  {
   "cell_type": "markdown",
   "metadata": {},
   "source": [
    "### <font color=Magenta> Heap sort </font>\n",
    "- The root will be at a[1], so start indexing from 1 and carefully maintain indexing\n",
    "- <font color=blue> Deletion can be done by replacing the key with last element in the array and then heapify </font>\n",
    "- [Implementation](https://github.com/sirish-git/Algorithms/blob/master/Solve_Algo/src/sorting_priority_queue/Pass_heap_sort.c)"
   ]
  },
  {
   "cell_type": "markdown",
   "metadata": {},
   "source": [
    "### <font color=Magenta> Priority Queue </font>\n",
    "- [Tutorial](https://www.quora.com/How-do-I-calculate-the-median-of-given-sets-of-numbers-when-the-number-of-elements-in-a-list-are-changed)\n",
    "- Priority queues are usefull in solving scheduling problems and problems does not require complete data to be sorted\n",
    "- We can find running median of input streams using both min and max heaps"
   ]
  },
  {
   "cell_type": "markdown",
   "metadata": {},
   "source": [
    "#### <font color=red> Problems </font>\n",
    "- Hackerearth:\n",
    "    - [Monk and Queries](https://www.hackerearth.com/practice/data-structures/trees/heapspriority-queues/practice-problems/algorithm/monk-and-some-queries/)\n",
    "- Spoj (PQUEUE, RMID2)"
   ]
  },
  {
   "cell_type": "markdown",
   "metadata": {},
   "source": [
    "### <font color=Magenta> Counting sort </font>\n",
    "- [Tutorial](https://www.geeksforgeeks.org/counting-sort/)\n",
    "- Counting sort is based on the input key values (like hash)\n",
    "- It is built as histogram and input is sorted based on the cumulative sum of histograms"
   ]
  },
  {
   "cell_type": "markdown",
   "metadata": {},
   "source": [
    "## Pattern searching algorihms"
   ]
  },
  {
   "cell_type": "markdown",
   "metadata": {},
   "source": [
    "### KMP"
   ]
  },
  {
   "cell_type": "markdown",
   "metadata": {},
   "source": [
    "### <font color=Magenta> Rabin Karp </font>\n",
    "- [Tutorial](https://www.youtube.com/watch?v=H4VrKHVG5qI)\n",
    "- This is based on rolling hash for finding the substring in the pattern"
   ]
  },
  {
   "cell_type": "markdown",
   "metadata": {},
   "source": [
    "### Aho-Corasick"
   ]
  },
  {
   "cell_type": "markdown",
   "metadata": {},
   "source": [
    "### <font color=Magenta> Z-algorithm </font>\n",
    "- [Tutorial](https://www.youtube.com/watch?v=CpZh4eF8QBw)\n",
    "- Similar complexity as kmp, but simpler to understand and implement"
   ]
  },
  {
   "cell_type": "markdown",
   "metadata": {},
   "source": [
    "### Manacher Algorithm"
   ]
  },
  {
   "cell_type": "markdown",
   "metadata": {},
   "source": [
    "### longest common prefix (lcp)"
   ]
  },
  {
   "cell_type": "markdown",
   "metadata": {},
   "source": [
    "### <font color=Magenta> kadance algorithm (to find max sum sub array) </font>\n",
    "- [Tutorial](https://www.geeksforgeeks.org/largest-sum-contiguous-subarray/)\n",
    "- Some change is required to handle negative cases\n",
    "- Instead of kadance, use simple dp solution proposed in the link, only change is initialize the max_end variable based on current value"
   ]
  },
  {
   "cell_type": "markdown",
   "metadata": {},
   "source": [
    "#### <font color=red> Problems </font>\n",
    "- Hackerearth:\n",
    "    - [Power-up](https://www.hackerearth.com/practice/data-structures/trees/heapspriority-queues/practice-problems/algorithm/power-up-2/)"
   ]
  },
  {
   "cell_type": "markdown",
   "metadata": {},
   "source": [
    "# <font color=DarkOrange> Data Structures </font>"
   ]
  },
  {
   "cell_type": "markdown",
   "metadata": {},
   "source": [
    "## Basic data structures"
   ]
  },
  {
   "cell_type": "markdown",
   "metadata": {},
   "source": [
    "### Hash tables\n",
    "- [Tutorial](https://www.youtube.com/watch?v=Ke_tII6Y0GE&list=PLTZbNwgO5ebqw1v0ODk8cPLW9dQ99Te8f)\n",
    "- Use a large prime number as mod to reduce the collisons\n",
    "- For strings, multiply each character incresed power of a prime number\n",
    "- <font color=blue> djb2 hash function (initial value: 5381, then hash = (hash * 33 + c )%P) </font>"
   ]
  },
  {
   "cell_type": "markdown",
   "metadata": {},
   "source": [
    "### <font color=Magenta> Rolling Hash </font>\n",
    "- [Rolling hash](https://www.youtube.com/watch?v=H4VrKHVG5qI&t=877s)\n",
    "- [Rolling hash with mod](https://stackoverflow.com/questions/36814088/understanding-how-rolling-hash-works-with-modulus-in-rabin-karp-algorithm)\n",
    "- Re-use previously computed hash function to find the next sub-string hash\n",
    "- <font color=blue> Use position powers as decreasing powers to avoid divison </font>\n",
    "- $ next_h = (((prev_h - char[0] * (p^{len}\\%m))*p)\\%m + char[N]*p)\\%m $\n",
    "- <font color=blue> for -ve hash result add q to make +ve (example string: 2345, len=3, p=7, m=101) </font>"
   ]
  },
  {
   "cell_type": "markdown",
   "metadata": {},
   "source": [
    "#### <font color=Red> Problems </font>\n",
    "- Codeforces (<font color=blue>4C</font>)\n",
    "- HackerEarth (Needle in Haystack, )"
   ]
  },
  {
   "cell_type": "markdown",
   "metadata": {},
   "source": [
    "## <font color=Magenta> Advanced data structures </font>"
   ]
  },
  {
   "cell_type": "markdown",
   "metadata": {},
   "source": [
    "### <font color=Magenta> Trie </font>\n",
    "- [Tutorial](https://www.youtube.com/watch?v=AXjmTQ8LEoI)\n",
    "- Tries is a useful data-structure that are based on the prefix of a string.\n",
    "- Need to create proper base data structure with appropriate elements.\n",
    "- Lexographic order of strings is possible by searching the char array alphabetically, can use the count of chars to optimize search\n",
    "- <font color=blue> The worst case memory requirement is number of input strings * sizeof(trie structure) </font>"
   ]
  },
  {
   "cell_type": "markdown",
   "metadata": {},
   "source": [
    "#### <font color=red> Problems </font>\n",
    "- SPOJ good problems:\n",
    "    - [dict](https://www.spoj.com/problems/DICT/)\n",
    "    - [phone list](https://www.spoj.com/problems/PHONELST/)\n",
    "- Codeforces (158C, 66C, 633C, 514C, 858D)\n",
    "    - [Cd and pwd commands](https://codeforces.com/problemset/problem/158/C)\n",
    "    - [Petya and file system](https://codeforces.com/problemset/problem/66/C)\n",
    "    - [Polycarps phone book](https://codeforces.com/problemset/problem/858/D)    \n",
    "- Topcoder good problems:\n",
    "    - [Word find](https://community.topcoder.com/stat?c=problem_statement&pm=3972&rd=6521)\n",
    "    - [Cyclic words](https://community.topcoder.com/stat?c=problem_statement&pm=7694&rd=10768)\n",
    "    - [Joined string](https://community.topcoder.com/stat?c=problem_statement&pm=6215)\n",
    "- LeetCode (Word Search II)"
   ]
  },
  {
   "cell_type": "markdown",
   "metadata": {},
   "source": [
    "### Suffix Trie\n",
    "- [Tutorial](https://www.geeksforgeeks.org/count-distinct-substrings-string-using-suffix-trie/)\n",
    "- Count of distinct substrings of a string using Suffix Trie, Suffix Array based solution is optimal"
   ]
  },
  {
   "cell_type": "markdown",
   "metadata": {},
   "source": [
    "### <font color=Magenta> Skip List </font>\n",
    "- [Tutorial](https://www.geeksforgeeks.org/skip-list/)\n",
    "- To search, insert, modify big data, we can use multi level linked list (skip list)"
   ]
  },
  {
   "cell_type": "markdown",
   "metadata": {},
   "source": [
    "### <font color=Magenta> Treap </font>"
   ]
  },
  {
   "cell_type": "markdown",
   "metadata": {},
   "source": [
    "### <font color=Magenta> Binary Search Tree (BST) </font>"
   ]
  },
  {
   "cell_type": "markdown",
   "metadata": {},
   "source": [
    "### <font color=Magenta> Segment Tree (for RMQ (Range Minimum Query)) </font>\n",
    "- [Tutorial](https://www.youtube.com/watch?v=ZBHKZF5w4YU)"
   ]
  },
  {
   "cell_type": "markdown",
   "metadata": {},
   "source": [
    "### <font color=Magenta> Binary Index Tree (Fenwick Tree) </font>"
   ]
  },
  {
   "cell_type": "markdown",
   "metadata": {},
   "source": [
    "### <font color=Magenta> Suffix arrays </font>\n",
    "- [Introduction](https://ankurkkhurana.me/2012/07/01/suffix-arrays-a-simple-tutorial/)\n",
    "- [Overview and implementation approach](https://e-maxx-eng.appspot.com/string/suffix-array.html)\n",
    "- [nlogn approach](https://www.geeksforgeeks.org/suffix-array-set-2-a-nlognlogn-algorithm/)\n",
    "- [Kasai algorithm for lcp](https://www.geeksforgeeks.org/%C2%AD%C2%ADkasais-algorithm-for-construction-of-lcp-array-from-suffix-array/)\n",
    "- [my implementation](https://github.com/sirish-git/Algorithms/blob/master/Solve_Algo/src/suffix_array/spoj_SUBST1_distinct_substrings.c)\n",
    "- Suffix arrays are extremely useful for string searching , where text is limited and substrings to be searched are not limited . \n",
    "- Assign ranks fist 2 chars and sort them based on 2 ranks\n",
    "- Then, continue for length of 2^i of chars and find the ranks based on previous ranks and sort and assign ranks\n",
    "- Optimizing the sorting further by sorting only the previous same rank suffixs\n",
    "- Use counting sort to reduce the complexity\n",
    "- LCP array built on SA is used to solve various problems, the idea is if two suffixes from SA has common prefix length of k, then next string will match atleast (k-1). Think with an example."
   ]
  },
  {
   "cell_type": "markdown",
   "metadata": {},
   "source": [
    "#### <font color=red> Problems </font>\n",
    "- Finding distint substrings\n",
    "- SPOJ good problems:\n",
    "    - [Sarray](https://www.spoj.com/problems/SARRAY/)\n",
    "    - [DiSubstr](https://www.spoj.com/problems/DISUBSTR/)\n",
    "    - [Subst1](https://www.spoj.com/problems/SUBST1/)\n",
    "    - [Sublex](https://www.spoj.com/problems/SUBLEX/)\n",
    "    - [Nsubstr](https://www.spoj.com/problems/NSUBSTR/)\n",
    "    - [lcs](https://www.spoj.com/problems/LCS/)\n",
    "    - [lps](https://www.spoj.com/problems/LPS/)\n",
    "    - [minmove](https://www.spoj.com/problems/MINMOVE/)\n",
    "    - [Adaclean](https://www.spoj.com/problems/ADACLEAN/)\n",
    "- Codeforces\n",
    "    - [String](https://codeforces.com/problemset/problem/128/B)"
   ]
  },
  {
   "cell_type": "markdown",
   "metadata": {},
   "source": [
    "### Suffix automation\n",
    "- It is used to solve many string related problems"
   ]
  },
  {
   "cell_type": "markdown",
   "metadata": {},
   "source": [
    "### Suffix trees"
   ]
  },
  {
   "cell_type": "markdown",
   "metadata": {},
   "source": [
    "#### <font color=red> Problems </font>\n",
    "- Codechef (TAEditor, Skiplist)\n",
    "- Spoj (GSS6)"
   ]
  },
  {
   "cell_type": "markdown",
   "metadata": {},
   "source": [
    "# <font color=DarkOrange> Graph Algorithms </font>"
   ]
  },
  {
   "cell_type": "markdown",
   "metadata": {},
   "source": [
    "## Graph Representation"
   ]
  },
  {
   "cell_type": "markdown",
   "metadata": {},
   "source": [
    "## Graph Types"
   ]
  },
  {
   "cell_type": "markdown",
   "metadata": {},
   "source": [
    "## DFS & It’s Application"
   ]
  },
  {
   "cell_type": "markdown",
   "metadata": {},
   "source": [
    "## BFS & It’s Application"
   ]
  },
  {
   "cell_type": "markdown",
   "metadata": {},
   "source": [
    "## Minimum Spanning Tree"
   ]
  },
  {
   "cell_type": "markdown",
   "metadata": {},
   "source": [
    "## Single Source Shortest-Path "
   ]
  },
  {
   "cell_type": "markdown",
   "metadata": {},
   "source": [
    "## All pair Shortest Path"
   ]
  },
  {
   "cell_type": "markdown",
   "metadata": {},
   "source": [
    "## Flow Algorithms"
   ]
  },
  {
   "cell_type": "markdown",
   "metadata": {},
   "source": [
    "## Other Important Topics On Graphs"
   ]
  },
  {
   "cell_type": "markdown",
   "metadata": {},
   "source": [
    "# <font color=DarkOrange> Dynamic Programming </font>"
   ]
  },
  {
   "cell_type": "markdown",
   "metadata": {},
   "source": [
    "## Dynamic Programming Classical Problems"
   ]
  },
  {
   "cell_type": "markdown",
   "metadata": {},
   "source": [
    "## Dynamic Programming  Advanced Techniques"
   ]
  },
  {
   "cell_type": "markdown",
   "metadata": {},
   "source": []
  },
  {
   "cell_type": "markdown",
   "metadata": {},
   "source": [
    "# <font color=red> Good problems </font>"
   ]
  },
  {
   "cell_type": "markdown",
   "metadata": {},
   "source": [
    "- Spoj (BITMAP)"
   ]
  }
 ],
 "metadata": {
  "kernelspec": {
   "display_name": "Python 3",
   "language": "python",
   "name": "python3"
  },
  "language_info": {
   "codemirror_mode": {
    "name": "ipython",
    "version": 3
   },
   "file_extension": ".py",
   "mimetype": "text/x-python",
   "name": "python",
   "nbconvert_exporter": "python",
   "pygments_lexer": "ipython3",
   "version": "3.6.5"
  },
  "toc": {
   "base_numbering": 1,
   "nav_menu": {},
   "number_sections": true,
   "sideBar": true,
   "skip_h1_title": false,
   "title_cell": "Table of Contents",
   "title_sidebar": "Contents",
   "toc_cell": true,
   "toc_position": {
    "height": "calc(100% - 180px)",
    "left": "10px",
    "top": "150px",
    "width": "233px"
   },
   "toc_section_display": true,
   "toc_window_display": true
  }
 },
 "nbformat": 4,
 "nbformat_minor": 2
}

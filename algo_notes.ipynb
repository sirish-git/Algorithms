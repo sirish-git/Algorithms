{
 "cells": [
  {
   "cell_type": "markdown",
   "metadata": {
    "toc": true
   },
   "source": [
    "<h1>Table of Contents<span class=\"tocSkip\"></span></h1>\n",
    "<div class=\"toc\"><ul class=\"toc-item\"><li><span><a href=\"#Mathematics\" data-toc-modified-id=\"Mathematics-1\"><span class=\"toc-item-num\">1&nbsp;&nbsp;</span>Mathematics</a></span><ul class=\"toc-item\"><li><span><a href=\"#-Number-Theory-\" data-toc-modified-id=\"-Number-Theory--1.1\"><span class=\"toc-item-num\">1.1&nbsp;&nbsp;</span><font color=\"DarkOrange\"> Number Theory </font></a></span><ul class=\"toc-item\"><li><span><a href=\"#-Prime-Number-Generation-(Sieve-of-Eratosthenes,-Segmented-Sieve)-\" data-toc-modified-id=\"-Prime-Number-Generation-(Sieve-of-Eratosthenes,-Segmented-Sieve)--1.1.1\"><span class=\"toc-item-num\">1.1.1&nbsp;&nbsp;</span><font color=\"Magenta\"> Prime Number Generation (Sieve of Eratosthenes, Segmented Sieve) </font></a></span></li><li><span><a href=\"#Euler-Totient-Theorem\" data-toc-modified-id=\"Euler-Totient-Theorem-1.1.2\"><span class=\"toc-item-num\">1.1.2&nbsp;&nbsp;</span>Euler Totient Theorem</a></span></li><li><span><a href=\"#Fermat’s-Theorem\" data-toc-modified-id=\"Fermat’s-Theorem-1.1.3\"><span class=\"toc-item-num\">1.1.3&nbsp;&nbsp;</span>Fermat’s Theorem</a></span></li><li><span><a href=\"#-GCD-(HCF)-&amp;-LCM-(Euclid)-\" data-toc-modified-id=\"-GCD-(HCF)-&amp;-LCM-(Euclid)--1.1.4\"><span class=\"toc-item-num\">1.1.4&nbsp;&nbsp;</span><font color=\"Magenta\"> GCD (HCF) &amp; LCM (Euclid) </font></a></span></li><li><span><a href=\"#Linear-Diophantine-Equations-(Extended-Euclid)\" data-toc-modified-id=\"Linear-Diophantine-Equations-(Extended-Euclid)-1.1.5\"><span class=\"toc-item-num\">1.1.5&nbsp;&nbsp;</span>Linear Diophantine Equations (Extended Euclid)</a></span></li><li><span><a href=\"#-Modulus-Arithmetic-(addition,multiplication,subtraction,modular-Inverse)-\" data-toc-modified-id=\"-Modulus-Arithmetic-(addition,multiplication,subtraction,modular-Inverse)--1.1.6\"><span class=\"toc-item-num\">1.1.6&nbsp;&nbsp;</span><font color=\"Magenta\"> Modulus Arithmetic (addition,multiplication,subtraction,modular Inverse) </font></a></span></li><li><span><a href=\"#binary-exponentiation\" data-toc-modified-id=\"binary-exponentiation-1.1.7\"><span class=\"toc-item-num\">1.1.7&nbsp;&nbsp;</span>binary exponentiation</a></span></li><li><span><a href=\"#Cycle-Finding-(Floyd-Algo-and-Brent-Algo)\" data-toc-modified-id=\"Cycle-Finding-(Floyd-Algo-and-Brent-Algo)-1.1.8\"><span class=\"toc-item-num\">1.1.8&nbsp;&nbsp;</span>Cycle Finding (Floyd Algo and Brent Algo)</a></span></li><li><span><a href=\"#Integer-Factorization-(Trial-Division-,-Pollard-Rho-method)\" data-toc-modified-id=\"Integer-Factorization-(Trial-Division-,-Pollard-Rho-method)-1.1.9\"><span class=\"toc-item-num\">1.1.9&nbsp;&nbsp;</span>Integer Factorization (Trial Division , Pollard Rho method)</a></span></li><li><span><a href=\"#Lucas-Theorem--(Simple-&amp;-Advance)\" data-toc-modified-id=\"Lucas-Theorem--(Simple-&amp;-Advance)-1.1.10\"><span class=\"toc-item-num\">1.1.10&nbsp;&nbsp;</span>Lucas Theorem  (Simple &amp; Advance)</a></span></li><li><span><a href=\"#Chinese-Remainder-Theorem\" data-toc-modified-id=\"Chinese-Remainder-Theorem-1.1.11\"><span class=\"toc-item-num\">1.1.11&nbsp;&nbsp;</span>Chinese Remainder Theorem</a></span></li><li><span><a href=\"#Wilson-Theorem\" data-toc-modified-id=\"Wilson-Theorem-1.1.12\"><span class=\"toc-item-num\">1.1.12&nbsp;&nbsp;</span>Wilson Theorem</a></span></li><li><span><a href=\"#Miller---Rabin-Primality-Testing\" data-toc-modified-id=\"Miller---Rabin-Primality-Testing-1.1.13\"><span class=\"toc-item-num\">1.1.13&nbsp;&nbsp;</span>Miller - Rabin Primality Testing</a></span></li><li><span><a href=\"#Goldbach-Conjecture\" data-toc-modified-id=\"Goldbach-Conjecture-1.1.14\"><span class=\"toc-item-num\">1.1.14&nbsp;&nbsp;</span>Goldbach Conjecture</a></span></li><li><span><a href=\"#Logarithmic-Exponentiation\" data-toc-modified-id=\"Logarithmic-Exponentiation-1.1.15\"><span class=\"toc-item-num\">1.1.15&nbsp;&nbsp;</span>Logarithmic Exponentiation</a></span></li><li><span><a href=\"#-Arithmetic/Geometric-progression-\" data-toc-modified-id=\"-Arithmetic/Geometric-progression--1.1.16\"><span class=\"toc-item-num\">1.1.16&nbsp;&nbsp;</span><font color=\"Brown\"> Arithmetic/Geometric progression </font></a></span></li></ul></li><li><span><a href=\"#-Counting-\" data-toc-modified-id=\"-Counting--1.2\"><span class=\"toc-item-num\">1.2&nbsp;&nbsp;</span><font color=\"DarkOrange\"> Counting </font></a></span><ul class=\"toc-item\"><li><span><a href=\"#Pigeonhole-principle\" data-toc-modified-id=\"Pigeonhole-principle-1.2.1\"><span class=\"toc-item-num\">1.2.1&nbsp;&nbsp;</span>Pigeonhole principle</a></span></li><li><span><a href=\"#Combinatorics\" data-toc-modified-id=\"Combinatorics-1.2.2\"><span class=\"toc-item-num\">1.2.2&nbsp;&nbsp;</span>Combinatorics</a></span></li><li><span><a href=\"#Inclusion-Exclusion\" data-toc-modified-id=\"Inclusion-Exclusion-1.2.3\"><span class=\"toc-item-num\">1.2.3&nbsp;&nbsp;</span>Inclusion Exclusion</a></span></li><li><span><a href=\"#Special-Numbers--[Stirling,Fibonacci,Catalan,-Eulerian,-Harmonic,-Bernoulli]\" data-toc-modified-id=\"Special-Numbers--[Stirling,Fibonacci,Catalan,-Eulerian,-Harmonic,-Bernoulli]-1.2.4\"><span class=\"toc-item-num\">1.2.4&nbsp;&nbsp;</span>Special Numbers  [Stirling,Fibonacci,Catalan, Eulerian, Harmonic, Bernoulli]</a></span></li></ul></li><li><span><a href=\"#Linear-Algebra\" data-toc-modified-id=\"Linear-Algebra-1.3\"><span class=\"toc-item-num\">1.3&nbsp;&nbsp;</span>Linear Algebra</a></span><ul class=\"toc-item\"><li><span><a href=\"#Multiplication-(-Strassen's-algorithm-),-Logarithmic-exponentiation\" data-toc-modified-id=\"Multiplication-(-Strassen's-algorithm-),-Logarithmic-exponentiation-1.3.1\"><span class=\"toc-item-num\">1.3.1&nbsp;&nbsp;</span>Multiplication ( Strassen's algorithm ), Logarithmic exponentiation</a></span></li><li><span><a href=\"#Determinant-,-Rank-and-Inverse-Of-Matrix-[-Gaussian-Elimination-,-Gauss-Jordan-Elimination]\" data-toc-modified-id=\"Determinant-,-Rank-and-Inverse-Of-Matrix-[-Gaussian-Elimination-,-Gauss-Jordan-Elimination]-1.3.2\"><span class=\"toc-item-num\">1.3.2&nbsp;&nbsp;</span>Determinant , Rank and Inverse Of Matrix [ Gaussian Elimination , Gauss Jordan Elimination]</a></span></li><li><span><a href=\"#Eigenvalues-And-Eigen-vector\" data-toc-modified-id=\"Eigenvalues-And-Eigen-vector-1.3.3\"><span class=\"toc-item-num\">1.3.3&nbsp;&nbsp;</span>Eigenvalues And Eigen vector</a></span></li><li><span><a href=\"#-sweep-line-\" data-toc-modified-id=\"-sweep-line--1.3.4\"><span class=\"toc-item-num\">1.3.4&nbsp;&nbsp;</span><font color=\"Magenta\"> sweep line </font></a></span></li></ul></li></ul></li><li><span><a href=\"#-Data-Structures-\" data-toc-modified-id=\"-Data-Structures--2\"><span class=\"toc-item-num\">2&nbsp;&nbsp;</span><font color=\"DarkOrange\"> Data Structures </font></a></span><ul class=\"toc-item\"><li><span><a href=\"#Basic-data-structures\" data-toc-modified-id=\"Basic-data-structures-2.1\"><span class=\"toc-item-num\">2.1&nbsp;&nbsp;</span>Basic data structures</a></span><ul class=\"toc-item\"><li><span><a href=\"#Hash-tables\" data-toc-modified-id=\"Hash-tables-2.1.1\"><span class=\"toc-item-num\">2.1.1&nbsp;&nbsp;</span>Hash tables</a></span></li><li><span><a href=\"#-Rolling-Hash-\" data-toc-modified-id=\"-Rolling-Hash--2.1.2\"><span class=\"toc-item-num\">2.1.2&nbsp;&nbsp;</span><font color=\"Magenta\"> Rolling Hash </font></a></span><ul class=\"toc-item\"><li><span><a href=\"#-Problems-\" data-toc-modified-id=\"-Problems--2.1.2.1\"><span class=\"toc-item-num\">2.1.2.1&nbsp;&nbsp;</span><font color=\"Red\"> Problems </font></a></span></li></ul></li></ul></li><li><span><a href=\"#-Advanced-data-structures-\" data-toc-modified-id=\"-Advanced-data-structures--2.2\"><span class=\"toc-item-num\">2.2&nbsp;&nbsp;</span><font color=\"Magenta\"> Advanced data structures </font></a></span><ul class=\"toc-item\"><li><span><a href=\"#-Trie-\" data-toc-modified-id=\"-Trie--2.2.1\"><span class=\"toc-item-num\">2.2.1&nbsp;&nbsp;</span><font color=\"Magenta\"> Trie </font></a></span><ul class=\"toc-item\"><li><span><a href=\"#-Problems-\" data-toc-modified-id=\"-Problems--2.2.1.1\"><span class=\"toc-item-num\">2.2.1.1&nbsp;&nbsp;</span><font color=\"red\"> Problems </font></a></span></li></ul></li><li><span><a href=\"#Suffix-Trie\" data-toc-modified-id=\"Suffix-Trie-2.2.2\"><span class=\"toc-item-num\">2.2.2&nbsp;&nbsp;</span>Suffix Trie</a></span></li><li><span><a href=\"#RMQ-(Range-Minimum-Query)\" data-toc-modified-id=\"RMQ-(Range-Minimum-Query)-2.2.3\"><span class=\"toc-item-num\">2.2.3&nbsp;&nbsp;</span>RMQ (Range Minimum Query)</a></span></li><li><span><a href=\"#Segment-Tree\" data-toc-modified-id=\"Segment-Tree-2.2.4\"><span class=\"toc-item-num\">2.2.4&nbsp;&nbsp;</span>Segment Tree</a></span></li><li><span><a href=\"#Binary-Index-Tree-(Fenwick-Tree)\" data-toc-modified-id=\"Binary-Index-Tree-(Fenwick-Tree)-2.2.5\"><span class=\"toc-item-num\">2.2.5&nbsp;&nbsp;</span>Binary Index Tree (Fenwick Tree)</a></span></li><li><span><a href=\"#Treap\" data-toc-modified-id=\"Treap-2.2.6\"><span class=\"toc-item-num\">2.2.6&nbsp;&nbsp;</span>Treap</a></span></li><li><span><a href=\"#Suffix-arrays\" data-toc-modified-id=\"Suffix-arrays-2.2.7\"><span class=\"toc-item-num\">2.2.7&nbsp;&nbsp;</span>Suffix arrays</a></span><ul class=\"toc-item\"><li><span><a href=\"#-Problems-\" data-toc-modified-id=\"-Problems--2.2.7.1\"><span class=\"toc-item-num\">2.2.7.1&nbsp;&nbsp;</span><font color=\"red\"> Problems </font></a></span></li></ul></li><li><span><a href=\"#Suffix-automation\" data-toc-modified-id=\"Suffix-automation-2.2.8\"><span class=\"toc-item-num\">2.2.8&nbsp;&nbsp;</span>Suffix automation</a></span></li><li><span><a href=\"#Suffix-trees\" data-toc-modified-id=\"Suffix-trees-2.2.9\"><span class=\"toc-item-num\">2.2.9&nbsp;&nbsp;</span>Suffix trees</a></span></li><li><span><a href=\"#Skip-List\" data-toc-modified-id=\"Skip-List-2.2.10\"><span class=\"toc-item-num\">2.2.10&nbsp;&nbsp;</span>Skip List</a></span><ul class=\"toc-item\"><li><span><a href=\"#-Problems-\" data-toc-modified-id=\"-Problems--2.2.10.1\"><span class=\"toc-item-num\">2.2.10.1&nbsp;&nbsp;</span><font color=\"red\"> Problems </font></a></span></li></ul></li></ul></li></ul></li><li><span><a href=\"#-Searching-and-Sorting-\" data-toc-modified-id=\"-Searching-and-Sorting--3\"><span class=\"toc-item-num\">3&nbsp;&nbsp;</span><font color=\"DarkOrange\"> Searching and Sorting </font></a></span><ul class=\"toc-item\"><li><span><a href=\"#Sorting-algorithms\" data-toc-modified-id=\"Sorting-algorithms-3.1\"><span class=\"toc-item-num\">3.1&nbsp;&nbsp;</span>Sorting algorithms</a></span><ul class=\"toc-item\"><li><span><a href=\"#Binary-search\" data-toc-modified-id=\"Binary-search-3.1.1\"><span class=\"toc-item-num\">3.1.1&nbsp;&nbsp;</span>Binary search</a></span></li><li><span><a href=\"#Insertion-sort\" data-toc-modified-id=\"Insertion-sort-3.1.2\"><span class=\"toc-item-num\">3.1.2&nbsp;&nbsp;</span>Insertion sort</a></span></li><li><span><a href=\"#Merge-sort\" data-toc-modified-id=\"Merge-sort-3.1.3\"><span class=\"toc-item-num\">3.1.3&nbsp;&nbsp;</span>Merge sort</a></span></li><li><span><a href=\"#Quick-sort\" data-toc-modified-id=\"Quick-sort-3.1.4\"><span class=\"toc-item-num\">3.1.4&nbsp;&nbsp;</span>Quick sort</a></span></li><li><span><a href=\"#Heap-sort\" data-toc-modified-id=\"Heap-sort-3.1.5\"><span class=\"toc-item-num\">3.1.5&nbsp;&nbsp;</span>Heap sort</a></span></li><li><span><a href=\"#Priority-Queue\" data-toc-modified-id=\"Priority-Queue-3.1.6\"><span class=\"toc-item-num\">3.1.6&nbsp;&nbsp;</span>Priority Queue</a></span><ul class=\"toc-item\"><li><span><a href=\"#-Problems-\" data-toc-modified-id=\"-Problems--3.1.6.1\"><span class=\"toc-item-num\">3.1.6.1&nbsp;&nbsp;</span><font color=\"red\"> Problems </font></a></span></li></ul></li><li><span><a href=\"#Counting-sort\" data-toc-modified-id=\"Counting-sort-3.1.7\"><span class=\"toc-item-num\">3.1.7&nbsp;&nbsp;</span>Counting sort</a></span></li></ul></li><li><span><a href=\"#Pattern-searching-algorihms\" data-toc-modified-id=\"Pattern-searching-algorihms-3.2\"><span class=\"toc-item-num\">3.2&nbsp;&nbsp;</span>Pattern searching algorihms</a></span><ul class=\"toc-item\"><li><span><a href=\"#KMP\" data-toc-modified-id=\"KMP-3.2.1\"><span class=\"toc-item-num\">3.2.1&nbsp;&nbsp;</span>KMP</a></span></li><li><span><a href=\"#Rabin-Karp\" data-toc-modified-id=\"Rabin-Karp-3.2.2\"><span class=\"toc-item-num\">3.2.2&nbsp;&nbsp;</span>Rabin Karp</a></span></li><li><span><a href=\"#Aho-Corasick\" data-toc-modified-id=\"Aho-Corasick-3.2.3\"><span class=\"toc-item-num\">3.2.3&nbsp;&nbsp;</span>Aho-Corasick</a></span></li><li><span><a href=\"#Z-algorithm\" data-toc-modified-id=\"Z-algorithm-3.2.4\"><span class=\"toc-item-num\">3.2.4&nbsp;&nbsp;</span>Z-algorithm</a></span></li><li><span><a href=\"#Manacher-Algorithm\" data-toc-modified-id=\"Manacher-Algorithm-3.2.5\"><span class=\"toc-item-num\">3.2.5&nbsp;&nbsp;</span>Manacher Algorithm</a></span></li><li><span><a href=\"#longest-common-prefix-(lcp)\" data-toc-modified-id=\"longest-common-prefix-(lcp)-3.2.6\"><span class=\"toc-item-num\">3.2.6&nbsp;&nbsp;</span>longest common prefix (lcp)</a></span></li><li><span><a href=\"#kadance-algorithm-(to-find-max-sum-sub-array)\" data-toc-modified-id=\"kadance-algorithm-(to-find-max-sum-sub-array)-3.2.7\"><span class=\"toc-item-num\">3.2.7&nbsp;&nbsp;</span>kadance algorithm (to find max sum sub array)</a></span></li></ul></li></ul></li><li><span><a href=\"#-Graph-Algorithms-\" data-toc-modified-id=\"-Graph-Algorithms--4\"><span class=\"toc-item-num\">4&nbsp;&nbsp;</span><font color=\"DarkOrange\"> Graph Algorithms </font></a></span><ul class=\"toc-item\"><li><span><a href=\"#Graph-Representation\" data-toc-modified-id=\"Graph-Representation-4.1\"><span class=\"toc-item-num\">4.1&nbsp;&nbsp;</span>Graph Representation</a></span></li><li><span><a href=\"#Graph-Types\" data-toc-modified-id=\"Graph-Types-4.2\"><span class=\"toc-item-num\">4.2&nbsp;&nbsp;</span>Graph Types</a></span></li><li><span><a href=\"#DFS-&amp;-It’s-Application\" data-toc-modified-id=\"DFS-&amp;-It’s-Application-4.3\"><span class=\"toc-item-num\">4.3&nbsp;&nbsp;</span>DFS &amp; It’s Application</a></span></li><li><span><a href=\"#BFS-&amp;-It’s-Application\" data-toc-modified-id=\"BFS-&amp;-It’s-Application-4.4\"><span class=\"toc-item-num\">4.4&nbsp;&nbsp;</span>BFS &amp; It’s Application</a></span></li><li><span><a href=\"#Minimum-Spanning-Tree\" data-toc-modified-id=\"Minimum-Spanning-Tree-4.5\"><span class=\"toc-item-num\">4.5&nbsp;&nbsp;</span>Minimum Spanning Tree</a></span></li><li><span><a href=\"#Single-Source-Shortest-Path\" data-toc-modified-id=\"Single-Source-Shortest-Path-4.6\"><span class=\"toc-item-num\">4.6&nbsp;&nbsp;</span>Single Source Shortest-Path</a></span></li><li><span><a href=\"#All-pair-Shortest-Path\" data-toc-modified-id=\"All-pair-Shortest-Path-4.7\"><span class=\"toc-item-num\">4.7&nbsp;&nbsp;</span>All pair Shortest Path</a></span></li><li><span><a href=\"#Flow-Algorithms\" data-toc-modified-id=\"Flow-Algorithms-4.8\"><span class=\"toc-item-num\">4.8&nbsp;&nbsp;</span>Flow Algorithms</a></span></li><li><span><a href=\"#Other-Important-Topics-On-Graphs\" data-toc-modified-id=\"Other-Important-Topics-On-Graphs-4.9\"><span class=\"toc-item-num\">4.9&nbsp;&nbsp;</span>Other Important Topics On Graphs</a></span></li></ul></li><li><span><a href=\"#-Dynamic-Programming-\" data-toc-modified-id=\"-Dynamic-Programming--5\"><span class=\"toc-item-num\">5&nbsp;&nbsp;</span><font color=\"DarkOrange\"> Dynamic Programming </font></a></span><ul class=\"toc-item\"><li><span><a href=\"#Dynamic-Programming-Classical-Problems\" data-toc-modified-id=\"Dynamic-Programming-Classical-Problems-5.1\"><span class=\"toc-item-num\">5.1&nbsp;&nbsp;</span>Dynamic Programming Classical Problems</a></span></li><li><span><a href=\"#Dynamic-Programming--Advanced-Techniques\" data-toc-modified-id=\"Dynamic-Programming--Advanced-Techniques-5.2\"><span class=\"toc-item-num\">5.2&nbsp;&nbsp;</span>Dynamic Programming  Advanced Techniques</a></span></li></ul></li></ul></div>"
   ]
  },
  {
   "cell_type": "markdown",
   "metadata": {},
   "source": [
    "# Mathematics"
   ]
  },
  {
   "cell_type": "markdown",
   "metadata": {},
   "source": [
    "## <font color=DarkOrange> Number Theory </font>"
   ]
  },
  {
   "cell_type": "markdown",
   "metadata": {},
   "source": [
    "### <font color=Magenta> Prime Number Generation (Sieve of Eratosthenes, Segmented Sieve) </font>\n",
    "- [Primality check](https://www.topcoder.com/community/data-science/data-science-tutorials/mathematics-for-topcoders/)\n",
    "- [Sieve method](https://www.geeksforgeeks.org/sieve-of-eratosthenes/)\n",
    "- [Segmented Sieve](https://www.quora.com/What-is-the-segmented-sieve-of-Eratosthenes) [link2](https://www.geeksforgeeks.org/segmented-sieve/)\n",
    "- <font color=blue> To verify a number is prime, need to check the divisability with numbers till sqrt of (num) </font>\n",
    "- To get all primes less than large number (say 10million), sieve method is efficient which marks all multipliers from 2 till n\n",
    "- For large n or between some range, segment sieve segments range by finding the primes upto sqrt(n), then find remaining ranges separately using simple sieve and primes"
   ]
  },
  {
   "cell_type": "markdown",
   "metadata": {},
   "source": [
    "### Euler Totient Theorem"
   ]
  },
  {
   "cell_type": "markdown",
   "metadata": {},
   "source": [
    "### Fermat’s Theorem"
   ]
  },
  {
   "cell_type": "markdown",
   "metadata": {},
   "source": [
    "### <font color=Magenta> GCD (HCF) & LCM (Euclid) </font>\n",
    "- [GCD](https://www.topcoder.com/community/data-science/data-science-tutorials/mathematics-for-topcoders/)\n",
    "- [LCM](https://www.geeksforgeeks.org/lcm-of-given-array-elements/)\n",
    "- To find GCD (HCF) divide the highest number with smallest, then make divisor as dividend and remainder as divisor, repeat till 0. For more than two values find answer for two value pairs and repeat\n",
    "- **LCM (a,b) = a*b/gcd(a,b); for more than two values find the answer for two values and repeat**"
   ]
  },
  {
   "cell_type": "markdown",
   "metadata": {},
   "source": [
    "### Linear Diophantine Equations (Extended Euclid)"
   ]
  },
  {
   "cell_type": "markdown",
   "metadata": {},
   "source": [
    "### <font color=Magenta> Modulus Arithmetic (addition,multiplication,subtraction,modular Inverse) </font>\n",
    "- [Tutorial](https://www.hackerearth.com/practice/math/number-theory/basic-number-theory-1/tutorial/)\n",
    "- Properties:\n",
    "    - (a + b)%c = (a%c + b%c)%c\n",
    "    - (a - b)%c = (a%c - b%c)%c    \n",
    "    - (a \\* b)%c = (a%c * b%c)%c"
   ]
  },
  {
   "cell_type": "markdown",
   "metadata": {},
   "source": [
    "### binary exponentiation\n",
    "- [Tutorial](https://www.hackerearth.com/practice/math/number-theory/basic-number-theory-1/tutorial/)"
   ]
  },
  {
   "cell_type": "markdown",
   "metadata": {},
   "source": [
    "### Cycle Finding (Floyd Algo and Brent Algo)\n",
    "- [Tutorial](https://www.geeksforgeeks.org/brents-cycle-detection-algorithm/)"
   ]
  },
  {
   "cell_type": "markdown",
   "metadata": {},
   "source": [
    "### Integer Factorization (Trial Division , Pollard Rho method)"
   ]
  },
  {
   "cell_type": "markdown",
   "metadata": {},
   "source": [
    "### Lucas Theorem  (Simple & Advance)"
   ]
  },
  {
   "cell_type": "markdown",
   "metadata": {},
   "source": [
    "### Chinese Remainder Theorem"
   ]
  },
  {
   "cell_type": "markdown",
   "metadata": {},
   "source": [
    "### Wilson Theorem"
   ]
  },
  {
   "cell_type": "markdown",
   "metadata": {},
   "source": [
    "### Miller - Rabin Primality Testing"
   ]
  },
  {
   "cell_type": "markdown",
   "metadata": {},
   "source": [
    "### Goldbach Conjecture"
   ]
  },
  {
   "cell_type": "markdown",
   "metadata": {},
   "source": [
    "### Logarithmic Exponentiation"
   ]
  },
  {
   "cell_type": "markdown",
   "metadata": {},
   "source": [
    "### <font color=Brown> Arithmetic/Geometric progression </font>\n",
    "- GP n-th term: an = ar(n-1) (a=initial number, r=common ratio)\n",
    "- GP fact: b2 = ac (for 3 consecutive GP series, b is called geometric mean)\n",
    "- GP sum = a(1-rn)/(1-r)\n",
    "- AP n-th term: an = a + (n-1)d\n",
    "- AP sum = n(a + an)/2"
   ]
  },
  {
   "cell_type": "markdown",
   "metadata": {},
   "source": [
    "## <font color=DarkOrange> Counting </font>"
   ]
  },
  {
   "cell_type": "markdown",
   "metadata": {},
   "source": [
    "### Pigeonhole principle"
   ]
  },
  {
   "cell_type": "markdown",
   "metadata": {},
   "source": [
    "### Combinatorics\n",
    "- [Tutorial](https://www.hackerearth.com/practice/math/combinatorics/basics-of-combinatorics/tutorial/)"
   ]
  },
  {
   "cell_type": "markdown",
   "metadata": {},
   "source": [
    "### Inclusion Exclusion"
   ]
  },
  {
   "cell_type": "markdown",
   "metadata": {},
   "source": [
    "### Special Numbers  [Stirling,Fibonacci,Catalan, Eulerian, Harmonic, Bernoulli]"
   ]
  },
  {
   "cell_type": "markdown",
   "metadata": {},
   "source": [
    "## Linear Algebra"
   ]
  },
  {
   "cell_type": "markdown",
   "metadata": {},
   "source": [
    "### Multiplication ( Strassen's algorithm ), Logarithmic exponentiation"
   ]
  },
  {
   "cell_type": "markdown",
   "metadata": {},
   "source": [
    "### Determinant , Rank and Inverse Of Matrix [ Gaussian Elimination , Gauss Jordan Elimination]"
   ]
  },
  {
   "cell_type": "markdown",
   "metadata": {},
   "source": [
    "### Eigenvalues And Eigen vector"
   ]
  },
  {
   "cell_type": "markdown",
   "metadata": {},
   "source": [
    "### <font color=Magenta> sweep line </font>"
   ]
  },
  {
   "cell_type": "markdown",
   "metadata": {},
   "source": [
    "# <font color=DarkOrange> Data Structures </font>"
   ]
  },
  {
   "cell_type": "markdown",
   "metadata": {},
   "source": [
    "## Basic data structures"
   ]
  },
  {
   "cell_type": "markdown",
   "metadata": {},
   "source": [
    "### Hash tables\n",
    "- [Tutorial](https://www.youtube.com/watch?v=Ke_tII6Y0GE&list=PLTZbNwgO5ebqw1v0ODk8cPLW9dQ99Te8f)\n",
    "- Use a large prime number as mod to reduce the collisons\n",
    "- For strings, multiply each character incresed power of a prime number\n",
    "- <font color=blue> djb2 hash function (initial value: 5381, then hash = (hash * 33 + c )%P) </font>"
   ]
  },
  {
   "cell_type": "markdown",
   "metadata": {},
   "source": [
    "### <font color=Magenta> Rolling Hash </font>\n",
    "- [Rolling hash](https://www.youtube.com/watch?v=H4VrKHVG5qI&t=877s)\n",
    "- [Rolling has with mod](https://stackoverflow.com/questions/36814088/understanding-how-rolling-hash-works-with-modulus-in-rabin-karp-algorithm)\n",
    "- Re-use previously computed hash function to find the next sub-string hash\n",
    "- Using position powers as decreasing powers to avoid divison\n",
    "- next_h = (((prev_h - 1st_char * (p^len)%q)*p)+nxt_char*p)%q\n",
    "- for -ve hash result add q to make +ve (example string: 2345, len=3, p=7, q=101)"
   ]
  },
  {
   "cell_type": "markdown",
   "metadata": {},
   "source": [
    "#### <font color=Red> Problems </font>\n",
    "- Codeforces (4C, 319D, 407D, 444D, 271D, 869E, 228C)\n",
    "- Spoj (ADACLEAN)\n",
    "- HackerEarth (Needle in Haystack, )"
   ]
  },
  {
   "cell_type": "markdown",
   "metadata": {},
   "source": [
    "## <font color=Magenta> Advanced data structures </font>"
   ]
  },
  {
   "cell_type": "markdown",
   "metadata": {},
   "source": [
    "### <font color=Magenta> Trie </font>\n",
    "- [Tutorial](https://www.youtube.com/watch?v=AXjmTQ8LEoI)\n",
    "- Tries is a useful data-structure that are based on the prefix of a string.\n",
    "- Need to create proper base data structure with appropriate elements.\n",
    "- Lexographic order of strings is possible by searching the char array alphabetically, can use the count of chars to optimize search"
   ]
  },
  {
   "cell_type": "markdown",
   "metadata": {},
   "source": [
    "#### <font color=red> Problems </font>\n",
    "- SPOJ (good_DICT, good_PHONELST)\n",
    "- topcoder (3972, 7694, 6215)\n",
    "- Codeforces (158C, 66C, 633C, 514C, 858D)\n",
    "- LeetCode (Word Search II)"
   ]
  },
  {
   "cell_type": "markdown",
   "metadata": {},
   "source": [
    "### Suffix Trie\n",
    "- [Tutorial](https://www.geeksforgeeks.org/count-distinct-substrings-string-using-suffix-trie/)\n",
    "- Count of distinct substrings of a string using Suffix Trie, Suffix Array based solution is optimal"
   ]
  },
  {
   "cell_type": "markdown",
   "metadata": {},
   "source": [
    "### RMQ (Range Minimum Query)"
   ]
  },
  {
   "cell_type": "markdown",
   "metadata": {},
   "source": [
    "### Segment Tree\n",
    "- [Tutorial](https://www.youtube.com/watch?v=ZBHKZF5w4YU)"
   ]
  },
  {
   "cell_type": "markdown",
   "metadata": {},
   "source": [
    "### Binary Index Tree (Fenwick Tree)"
   ]
  },
  {
   "cell_type": "markdown",
   "metadata": {},
   "source": [
    "### Treap"
   ]
  },
  {
   "cell_type": "markdown",
   "metadata": {},
   "source": [
    "### Suffix arrays\n",
    "- [Tutorial](https://ankurkkhurana.me/2012/07/01/suffix-arrays-a-simple-tutorial/)\n",
    "- [Tutorial](https://e-maxx-eng.appspot.com/string/suffix-array.html)\n",
    "- [Tutorial](https://www.geeksforgeeks.org/suffix-array-set-2-a-nlognlogn-algorithm/)\n",
    "- [Tutorial](https://www.geeksforgeeks.org/%C2%AD%C2%ADkasais-algorithm-for-construction-of-lcp-array-from-suffix-array/)\n",
    "- Assign ranks fist 2 chars and sort them based on 2 ranks\n",
    "- Then, continue for length of 2^i of chars and find the ranks based on previous ranks and sort and assign ranks\n",
    "- Optimizing the sorting further by sorting only the previous same rank suffixs\n",
    "- Use counting sort to reduce the complexity\n",
    "- LCP array built on SA is used to solve various problems, the idea is if two suffixes from SA has common prefix length of k, then next string will match atleast (k-1). Think with an example."
   ]
  },
  {
   "cell_type": "markdown",
   "metadata": {},
   "source": [
    "#### <font color=red> Problems </font>\n",
    "- Finding distint substrings\n",
    "- SPOJ (SARRY, DISUBSTR/ SUBST1, SUBLEX, NSUBSTR, LCS, LPS, LCS2, MINMOVE)\n",
    "- Codeforces (128B)"
   ]
  },
  {
   "cell_type": "markdown",
   "metadata": {},
   "source": [
    "### Suffix automation\n",
    "- It is used to solve many string related problems"
   ]
  },
  {
   "cell_type": "markdown",
   "metadata": {},
   "source": [
    "### Suffix trees"
   ]
  },
  {
   "cell_type": "markdown",
   "metadata": {},
   "source": [
    "### Skip List\n",
    "- [Tutorial](https://www.geeksforgeeks.org/skip-list/)\n",
    "- To search, insert, modify big data, we can use multi level linked list (skip list)"
   ]
  },
  {
   "cell_type": "markdown",
   "metadata": {},
   "source": [
    "#### <font color=red> Problems </font>\n",
    "- Codechef (TAEditor, Skiplist)\n",
    "- Spoj (GSS6)"
   ]
  },
  {
   "cell_type": "markdown",
   "metadata": {},
   "source": [
    "# <font color=DarkOrange> Searching and Sorting </font>"
   ]
  },
  {
   "cell_type": "markdown",
   "metadata": {},
   "source": [
    "## Sorting algorithms"
   ]
  },
  {
   "cell_type": "markdown",
   "metadata": {},
   "source": [
    "### Binary search"
   ]
  },
  {
   "cell_type": "markdown",
   "metadata": {},
   "source": [
    "##### <font color=red> Problems </font>\n",
    "- Spoj (ANARC05B)"
   ]
  },
  {
   "cell_type": "markdown",
   "metadata": {},
   "source": [
    "### Insertion sort"
   ]
  },
  {
   "cell_type": "markdown",
   "metadata": {},
   "source": [
    "### Merge sort"
   ]
  },
  {
   "cell_type": "markdown",
   "metadata": {},
   "source": [
    "### Quick sort"
   ]
  },
  {
   "cell_type": "markdown",
   "metadata": {},
   "source": [
    "### Heap sort\n",
    "- The root will be at a[1], so start indexing from 1 and carefully maintain indexing"
   ]
  },
  {
   "cell_type": "markdown",
   "metadata": {},
   "source": [
    "### Priority Queue\n",
    "- [Tutorial](https://www.quora.com/How-do-I-calculate-the-median-of-given-sets-of-numbers-when-the-number-of-elements-in-a-list-are-changed)\n",
    "- Priority queues are usefull in solving scheduling problems and problems does not require complete data to be sorted\n",
    "- We can find running median of input streams using both min and max heaps"
   ]
  },
  {
   "cell_type": "markdown",
   "metadata": {},
   "source": [
    "#### <font color=red> Problems </font>\n",
    "- Spoj (PQUEUE, RMID2)"
   ]
  },
  {
   "cell_type": "markdown",
   "metadata": {},
   "source": [
    "### Counting sort\n",
    "- [Tutorial](https://www.geeksforgeeks.org/counting-sort/)\n",
    "- Counting sort is based on the input key values (like hash)\n",
    "- It is built as histogram and input is sorted based on the cumulative sum of histograms"
   ]
  },
  {
   "cell_type": "markdown",
   "metadata": {},
   "source": [
    "## Pattern searching algorihms"
   ]
  },
  {
   "cell_type": "markdown",
   "metadata": {},
   "source": [
    "### KMP"
   ]
  },
  {
   "cell_type": "markdown",
   "metadata": {},
   "source": [
    "### Rabin Karp\n",
    "- [Tutorial](https://www.youtube.com/watch?v=H4VrKHVG5qI)\n",
    "- This is based on rolling hash for finding the substring in the pattern"
   ]
  },
  {
   "cell_type": "markdown",
   "metadata": {},
   "source": [
    "### Aho-Corasick"
   ]
  },
  {
   "cell_type": "markdown",
   "metadata": {},
   "source": [
    "### Z-algorithm\n",
    "- [Tutorial](https://www.youtube.com/watch?v=CpZh4eF8QBw)\n",
    "- Similar complexity as kmp, but simpler to understand and implement"
   ]
  },
  {
   "cell_type": "markdown",
   "metadata": {},
   "source": [
    "### Manacher Algorithm"
   ]
  },
  {
   "cell_type": "markdown",
   "metadata": {},
   "source": [
    "### longest common prefix (lcp)"
   ]
  },
  {
   "cell_type": "markdown",
   "metadata": {},
   "source": [
    "### kadance algorithm (to find max sum sub array)\n",
    "- [Tutorial](https://www.geeksforgeeks.org/largest-sum-contiguous-subarray/)\n",
    "- Some change is required to handle negative cases\n",
    "- Instead of kadance, use simple dp solution proposed in the link, only change is initialize the max_end variable based on current value"
   ]
  },
  {
   "cell_type": "markdown",
   "metadata": {},
   "source": [
    "# <font color=DarkOrange> Graph Algorithms </font>"
   ]
  },
  {
   "cell_type": "markdown",
   "metadata": {},
   "source": [
    "## Graph Representation"
   ]
  },
  {
   "cell_type": "markdown",
   "metadata": {},
   "source": [
    "## Graph Types"
   ]
  },
  {
   "cell_type": "markdown",
   "metadata": {},
   "source": [
    "## DFS & It’s Application"
   ]
  },
  {
   "cell_type": "markdown",
   "metadata": {},
   "source": [
    "## BFS & It’s Application"
   ]
  },
  {
   "cell_type": "markdown",
   "metadata": {},
   "source": [
    "## Minimum Spanning Tree"
   ]
  },
  {
   "cell_type": "markdown",
   "metadata": {},
   "source": [
    "## Single Source Shortest-Path "
   ]
  },
  {
   "cell_type": "markdown",
   "metadata": {},
   "source": [
    "## All pair Shortest Path"
   ]
  },
  {
   "cell_type": "markdown",
   "metadata": {},
   "source": [
    "## Flow Algorithms"
   ]
  },
  {
   "cell_type": "markdown",
   "metadata": {},
   "source": [
    "## Other Important Topics On Graphs"
   ]
  },
  {
   "cell_type": "markdown",
   "metadata": {},
   "source": [
    "# <font color=DarkOrange> Dynamic Programming </font>"
   ]
  },
  {
   "cell_type": "markdown",
   "metadata": {},
   "source": [
    "## Dynamic Programming Classical Problems"
   ]
  },
  {
   "cell_type": "markdown",
   "metadata": {},
   "source": [
    "## Dynamic Programming  Advanced Techniques"
   ]
  },
  {
   "cell_type": "markdown",
   "metadata": {},
   "source": []
  }
 ],
 "metadata": {
  "kernelspec": {
   "display_name": "Python 3",
   "language": "python",
   "name": "python3"
  },
  "language_info": {
   "codemirror_mode": {
    "name": "ipython",
    "version": 3
   },
   "file_extension": ".py",
   "mimetype": "text/x-python",
   "name": "python",
   "nbconvert_exporter": "python",
   "pygments_lexer": "ipython3",
   "version": "3.6.5"
  },
  "toc": {
   "base_numbering": 1,
   "nav_menu": {},
   "number_sections": true,
   "sideBar": true,
   "skip_h1_title": false,
   "title_cell": "Table of Contents",
   "title_sidebar": "Contents",
   "toc_cell": true,
   "toc_position": {},
   "toc_section_display": true,
   "toc_window_display": true
  }
 },
 "nbformat": 4,
 "nbformat_minor": 2
}
